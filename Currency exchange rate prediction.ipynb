{
 "cells": [
  {
   "cell_type": "code",
   "execution_count": 2,
   "id": "fe45103f",
   "metadata": {},
   "outputs": [],
   "source": [
    "import numpy as np\n",
    "import pandas as pd\n",
    "import matplotlib.pyplot as plt\n",
    "import seaborn as sns\n",
    "from seaborn import regression\n",
    "from sklearn.model_selection import train_test_split\n",
    "from sklearn.metrics import accuracy_score"
   ]
  },
  {
   "cell_type": "code",
   "execution_count": 3,
   "id": "0b6ae1b0",
   "metadata": {},
   "outputs": [],
   "source": [
    "currency_data=pd.read_csv(\"C:\\\\Users\\\\kotha\\\\OneDrive\\\\Desktop\\\\dataset.csv\")"
   ]
  },
  {
   "cell_type": "code",
   "execution_count": 4,
   "id": "ab1f8bc1",
   "metadata": {},
   "outputs": [
    {
     "data": {
      "text/html": [
       "<div>\n",
       "<style scoped>\n",
       "    .dataframe tbody tr th:only-of-type {\n",
       "        vertical-align: middle;\n",
       "    }\n",
       "\n",
       "    .dataframe tbody tr th {\n",
       "        vertical-align: top;\n",
       "    }\n",
       "\n",
       "    .dataframe thead th {\n",
       "        text-align: right;\n",
       "    }\n",
       "</style>\n",
       "<table border=\"1\" class=\"dataframe\">\n",
       "  <thead>\n",
       "    <tr style=\"text-align: right;\">\n",
       "      <th></th>\n",
       "      <th>Date</th>\n",
       "      <th>Open</th>\n",
       "      <th>High</th>\n",
       "      <th>Low</th>\n",
       "      <th>Close</th>\n",
       "      <th>Adj Close</th>\n",
       "      <th>Volume</th>\n",
       "    </tr>\n",
       "  </thead>\n",
       "  <tbody>\n",
       "    <tr>\n",
       "      <th>0</th>\n",
       "      <td>2022-01-20</td>\n",
       "      <td>74.449303</td>\n",
       "      <td>74.652496</td>\n",
       "      <td>74.296501</td>\n",
       "      <td>74.449203</td>\n",
       "      <td>74.449203</td>\n",
       "      <td>0</td>\n",
       "    </tr>\n",
       "    <tr>\n",
       "      <th>1</th>\n",
       "      <td>2022-01-21</td>\n",
       "      <td>74.438499</td>\n",
       "      <td>74.629997</td>\n",
       "      <td>74.294403</td>\n",
       "      <td>74.452202</td>\n",
       "      <td>74.452202</td>\n",
       "      <td>0</td>\n",
       "    </tr>\n",
       "    <tr>\n",
       "      <th>2</th>\n",
       "      <td>2022-01-24</td>\n",
       "      <td>74.420303</td>\n",
       "      <td>74.742699</td>\n",
       "      <td>74.316101</td>\n",
       "      <td>74.413200</td>\n",
       "      <td>74.413200</td>\n",
       "      <td>0</td>\n",
       "    </tr>\n",
       "    <tr>\n",
       "      <th>3</th>\n",
       "      <td>2022-01-25</td>\n",
       "      <td>74.644897</td>\n",
       "      <td>74.834801</td>\n",
       "      <td>74.538498</td>\n",
       "      <td>74.644798</td>\n",
       "      <td>74.644798</td>\n",
       "      <td>0</td>\n",
       "    </tr>\n",
       "    <tr>\n",
       "      <th>4</th>\n",
       "      <td>2022-01-26</td>\n",
       "      <td>74.779999</td>\n",
       "      <td>75.001503</td>\n",
       "      <td>74.685997</td>\n",
       "      <td>74.779999</td>\n",
       "      <td>74.779999</td>\n",
       "      <td>0</td>\n",
       "    </tr>\n",
       "  </tbody>\n",
       "</table>\n",
       "</div>"
      ],
      "text/plain": [
       "         Date       Open       High        Low      Close  Adj Close  Volume\n",
       "0  2022-01-20  74.449303  74.652496  74.296501  74.449203  74.449203       0\n",
       "1  2022-01-21  74.438499  74.629997  74.294403  74.452202  74.452202       0\n",
       "2  2022-01-24  74.420303  74.742699  74.316101  74.413200  74.413200       0\n",
       "3  2022-01-25  74.644897  74.834801  74.538498  74.644798  74.644798       0\n",
       "4  2022-01-26  74.779999  75.001503  74.685997  74.779999  74.779999       0"
      ]
     },
     "execution_count": 4,
     "metadata": {},
     "output_type": "execute_result"
    }
   ],
   "source": [
    "currency_data.head()"
   ]
  },
  {
   "cell_type": "code",
   "execution_count": 5,
   "id": "1a76a898",
   "metadata": {},
   "outputs": [
    {
     "data": {
      "text/html": [
       "<div>\n",
       "<style scoped>\n",
       "    .dataframe tbody tr th:only-of-type {\n",
       "        vertical-align: middle;\n",
       "    }\n",
       "\n",
       "    .dataframe tbody tr th {\n",
       "        vertical-align: top;\n",
       "    }\n",
       "\n",
       "    .dataframe thead th {\n",
       "        text-align: right;\n",
       "    }\n",
       "</style>\n",
       "<table border=\"1\" class=\"dataframe\">\n",
       "  <thead>\n",
       "    <tr style=\"text-align: right;\">\n",
       "      <th></th>\n",
       "      <th>Date</th>\n",
       "      <th>Open</th>\n",
       "      <th>High</th>\n",
       "      <th>Low</th>\n",
       "      <th>Close</th>\n",
       "      <th>Adj Close</th>\n",
       "      <th>Volume</th>\n",
       "    </tr>\n",
       "  </thead>\n",
       "  <tbody>\n",
       "    <tr>\n",
       "      <th>257</th>\n",
       "      <td>2023-01-16</td>\n",
       "      <td>81.278000</td>\n",
       "      <td>81.736099</td>\n",
       "      <td>81.129501</td>\n",
       "      <td>81.278000</td>\n",
       "      <td>81.278000</td>\n",
       "      <td>0</td>\n",
       "    </tr>\n",
       "    <tr>\n",
       "      <th>258</th>\n",
       "      <td>2023-01-17</td>\n",
       "      <td>81.652603</td>\n",
       "      <td>81.874001</td>\n",
       "      <td>81.542000</td>\n",
       "      <td>81.652603</td>\n",
       "      <td>81.652603</td>\n",
       "      <td>0</td>\n",
       "    </tr>\n",
       "    <tr>\n",
       "      <th>259</th>\n",
       "      <td>2023-01-18</td>\n",
       "      <td>81.525497</td>\n",
       "      <td>81.817001</td>\n",
       "      <td>81.155502</td>\n",
       "      <td>81.525497</td>\n",
       "      <td>81.525497</td>\n",
       "      <td>0</td>\n",
       "    </tr>\n",
       "    <tr>\n",
       "      <th>260</th>\n",
       "      <td>2023-01-19</td>\n",
       "      <td>81.435997</td>\n",
       "      <td>81.559303</td>\n",
       "      <td>81.225800</td>\n",
       "      <td>81.435997</td>\n",
       "      <td>81.435997</td>\n",
       "      <td>0</td>\n",
       "    </tr>\n",
       "    <tr>\n",
       "      <th>261</th>\n",
       "      <td>2023-01-20</td>\n",
       "      <td>81.259003</td>\n",
       "      <td>81.360001</td>\n",
       "      <td>81.095001</td>\n",
       "      <td>81.222504</td>\n",
       "      <td>81.222504</td>\n",
       "      <td>0</td>\n",
       "    </tr>\n",
       "  </tbody>\n",
       "</table>\n",
       "</div>"
      ],
      "text/plain": [
       "           Date       Open       High        Low      Close  Adj Close  Volume\n",
       "257  2023-01-16  81.278000  81.736099  81.129501  81.278000  81.278000       0\n",
       "258  2023-01-17  81.652603  81.874001  81.542000  81.652603  81.652603       0\n",
       "259  2023-01-18  81.525497  81.817001  81.155502  81.525497  81.525497       0\n",
       "260  2023-01-19  81.435997  81.559303  81.225800  81.435997  81.435997       0\n",
       "261  2023-01-20  81.259003  81.360001  81.095001  81.222504  81.222504       0"
      ]
     },
     "execution_count": 5,
     "metadata": {},
     "output_type": "execute_result"
    }
   ],
   "source": [
    "currency_data.tail()"
   ]
  },
  {
   "cell_type": "code",
   "execution_count": 21,
   "id": "2d5470e2",
   "metadata": {},
   "outputs": [
    {
     "name": "stdout",
     "output_type": "stream",
     "text": [
      "<class 'pandas.core.frame.DataFrame'>\n",
      "RangeIndex: 262 entries, 0 to 261\n",
      "Data columns (total 7 columns):\n",
      " #   Column     Non-Null Count  Dtype  \n",
      "---  ------     --------------  -----  \n",
      " 0   Date       262 non-null    object \n",
      " 1   Open       262 non-null    float64\n",
      " 2   High       262 non-null    float64\n",
      " 3   Low        262 non-null    float64\n",
      " 4   Close      262 non-null    float64\n",
      " 5   Adj Close  262 non-null    float64\n",
      " 6   Volume     262 non-null    int64  \n",
      "dtypes: float64(5), int64(1), object(1)\n",
      "memory usage: 14.5+ KB\n"
     ]
    }
   ],
   "source": [
    "currency_data.info()"
   ]
  },
  {
   "cell_type": "code",
   "execution_count": 23,
   "id": "ea1dfdef",
   "metadata": {},
   "outputs": [
    {
     "data": {
      "text/plain": [
       "Date         0\n",
       "Open         0\n",
       "High         0\n",
       "Low          0\n",
       "Close        0\n",
       "Adj Close    0\n",
       "Volume       0\n",
       "dtype: int64"
      ]
     },
     "execution_count": 23,
     "metadata": {},
     "output_type": "execute_result"
    }
   ],
   "source": [
    "currency_data.isnull().sum()"
   ]
  },
  {
   "cell_type": "code",
   "execution_count": 25,
   "id": "9194d91c",
   "metadata": {},
   "outputs": [
    {
     "data": {
      "text/plain": [
       "(262, 7)"
      ]
     },
     "execution_count": 25,
     "metadata": {},
     "output_type": "execute_result"
    }
   ],
   "source": [
    "currency_data.shape\n"
   ]
  },
  {
   "cell_type": "code",
   "execution_count": 26,
   "id": "9226766a",
   "metadata": {},
   "outputs": [
    {
     "data": {
      "text/html": [
       "<div>\n",
       "<style scoped>\n",
       "    .dataframe tbody tr th:only-of-type {\n",
       "        vertical-align: middle;\n",
       "    }\n",
       "\n",
       "    .dataframe tbody tr th {\n",
       "        vertical-align: top;\n",
       "    }\n",
       "\n",
       "    .dataframe thead th {\n",
       "        text-align: right;\n",
       "    }\n",
       "</style>\n",
       "<table border=\"1\" class=\"dataframe\">\n",
       "  <thead>\n",
       "    <tr style=\"text-align: right;\">\n",
       "      <th></th>\n",
       "      <th>Open</th>\n",
       "      <th>High</th>\n",
       "      <th>Low</th>\n",
       "      <th>Close</th>\n",
       "      <th>Adj Close</th>\n",
       "      <th>Volume</th>\n",
       "    </tr>\n",
       "  </thead>\n",
       "  <tbody>\n",
       "    <tr>\n",
       "      <th>count</th>\n",
       "      <td>262.000000</td>\n",
       "      <td>262.000000</td>\n",
       "      <td>262.000000</td>\n",
       "      <td>262.000000</td>\n",
       "      <td>262.000000</td>\n",
       "      <td>262.0</td>\n",
       "    </tr>\n",
       "    <tr>\n",
       "      <th>mean</th>\n",
       "      <td>78.986456</td>\n",
       "      <td>79.285799</td>\n",
       "      <td>78.795209</td>\n",
       "      <td>78.985002</td>\n",
       "      <td>78.985002</td>\n",
       "      <td>0.0</td>\n",
       "    </tr>\n",
       "    <tr>\n",
       "      <th>std</th>\n",
       "      <td>2.619583</td>\n",
       "      <td>2.636346</td>\n",
       "      <td>2.604530</td>\n",
       "      <td>2.621220</td>\n",
       "      <td>2.621220</td>\n",
       "      <td>0.0</td>\n",
       "    </tr>\n",
       "    <tr>\n",
       "      <th>min</th>\n",
       "      <td>74.420303</td>\n",
       "      <td>74.629997</td>\n",
       "      <td>74.294403</td>\n",
       "      <td>74.413200</td>\n",
       "      <td>74.413200</td>\n",
       "      <td>0.0</td>\n",
       "    </tr>\n",
       "    <tr>\n",
       "      <th>25%</th>\n",
       "      <td>76.476673</td>\n",
       "      <td>76.769722</td>\n",
       "      <td>76.307324</td>\n",
       "      <td>76.476673</td>\n",
       "      <td>76.476673</td>\n",
       "      <td>0.0</td>\n",
       "    </tr>\n",
       "    <tr>\n",
       "      <th>50%</th>\n",
       "      <td>79.364052</td>\n",
       "      <td>79.735248</td>\n",
       "      <td>79.126248</td>\n",
       "      <td>79.364052</td>\n",
       "      <td>79.364052</td>\n",
       "      <td>0.0</td>\n",
       "    </tr>\n",
       "    <tr>\n",
       "      <th>75%</th>\n",
       "      <td>81.513748</td>\n",
       "      <td>81.824348</td>\n",
       "      <td>81.270948</td>\n",
       "      <td>81.513748</td>\n",
       "      <td>81.513748</td>\n",
       "      <td>0.0</td>\n",
       "    </tr>\n",
       "    <tr>\n",
       "      <th>max</th>\n",
       "      <td>82.997002</td>\n",
       "      <td>83.386002</td>\n",
       "      <td>82.740997</td>\n",
       "      <td>82.997002</td>\n",
       "      <td>82.997002</td>\n",
       "      <td>0.0</td>\n",
       "    </tr>\n",
       "  </tbody>\n",
       "</table>\n",
       "</div>"
      ],
      "text/plain": [
       "             Open        High         Low       Close   Adj Close  Volume\n",
       "count  262.000000  262.000000  262.000000  262.000000  262.000000   262.0\n",
       "mean    78.986456   79.285799   78.795209   78.985002   78.985002     0.0\n",
       "std      2.619583    2.636346    2.604530    2.621220    2.621220     0.0\n",
       "min     74.420303   74.629997   74.294403   74.413200   74.413200     0.0\n",
       "25%     76.476673   76.769722   76.307324   76.476673   76.476673     0.0\n",
       "50%     79.364052   79.735248   79.126248   79.364052   79.364052     0.0\n",
       "75%     81.513748   81.824348   81.270948   81.513748   81.513748     0.0\n",
       "max     82.997002   83.386002   82.740997   82.997002   82.997002     0.0"
      ]
     },
     "execution_count": 26,
     "metadata": {},
     "output_type": "execute_result"
    }
   ],
   "source": [
    "currency_data.describe()"
   ]
  },
  {
   "cell_type": "code",
   "execution_count": 28,
   "id": "91bc1a8f",
   "metadata": {},
   "outputs": [
    {
     "data": {
      "image/png": "[encoded data removed]",
      "text/plain": [
       "<Figure size 1080x504 with 1 Axes>"
      ]
     },
     "metadata": {
      "needs_background": "light"
     },
     "output_type": "display_data"
    }
   ],
   "source": [
    "plt.figure(figsize=(15, 7))\n",
    "plt.title(\"INR - USD Exchange Rate\")\n",
    "plt.xlabel(\"Date\")\n",
    "plt.ylabel(\"Close\")\n",
    "plt.plot(currency_data[\"Close\"])\n",
    "plt.show()"
   ]
  },
  {
   "cell_type": "code",
   "execution_count": 11,
   "id": "43e22bc8",
   "metadata": {},
   "outputs": [
    {
     "name": "stdout",
     "output_type": "stream",
     "text": [
      "               Open      High       Low     Close  Adj Close  Volume\n",
      "Open       1.000000  0.997564  0.997864  0.999974   0.999974     NaN\n",
      "High       0.997564  1.000000  0.996937  0.997579   0.997579     NaN\n",
      "Low        0.997864  0.996937  1.000000  0.997856   0.997856     NaN\n",
      "Close      0.999974  0.997579  0.997856  1.000000   1.000000     NaN\n",
      "Adj Close  0.999974  0.997579  0.997856  1.000000   1.000000     NaN\n",
      "Volume          NaN       NaN       NaN       NaN        NaN     NaN\n"
     ]
    }
   ],
   "source": [
    "print(currency_data.corr())"
   ]
  },
  {
   "cell_type": "code",
   "execution_count": 12,
   "id": "b240152a",
   "metadata": {},
   "outputs": [
    {
     "data": {
      "image/png": "[encoded data removed]",
      "text/plain": [
       "<Figure size 432x288 with 2 Axes>"
      ]
     },
     "metadata": {
      "needs_background": "light"
     },
     "output_type": "display_data"
    }
   ],
   "source": [
    "sns.heatmap(currency_data.corr())\n",
    "plt.show()"
   ]
  },
  {
   "cell_type": "code",
   "execution_count": 13,
   "id": "2671b390",
   "metadata": {},
   "outputs": [],
   "source": [
    "#Now the next step is to prepare the dataset by storing the most relevant features in the variable x and storing the target \n",
    "#column in the variable y:"
   ]
  },
  {
   "cell_type": "code",
   "execution_count": 14,
   "id": "421463f1",
   "metadata": {},
   "outputs": [],
   "source": [
    "x = currency_data[[\"Open\", \"High\", \"Low\"]]\n",
    "y = currency_data[\"Close\"]\n",
    "x = x.to_numpy()\n",
    "y = y.to_numpy()\n",
    "y = y.reshape(-1, 1)"
   ]
  },
  {
   "cell_type": "code",
   "execution_count": 15,
   "id": "d5b8df1c",
   "metadata": {},
   "outputs": [],
   "source": [
    "#Now let’s split the dataset and train a currency exchange prediction model using the Decision Tree \n",
    "#Regression model using Python:"
   ]
  },
  {
   "cell_type": "code",
   "execution_count": 35,
   "id": "51023350",
   "metadata": {},
   "outputs": [],
   "source": [
    "from sklearn.model_selection import train_test_split\n",
    "x_train, x_test, y_train, y_test = train_test_split(x, y, test_size=0.2, random_state=42)\n",
    "\n"
   ]
  },
  {
   "cell_type": "code",
   "execution_count": 38,
   "id": "c3bc8442",
   "metadata": {},
   "outputs": [
    {
     "name": "stdout",
     "output_type": "stream",
     "text": [
      "[[81.724602 82.112999 81.496101]\n",
      " [78.8983   79.108002 78.838699]\n",
      " [77.360497 77.686401 77.389801]\n",
      " [82.644699 82.911903 82.365402]\n",
      " [76.121696 76.329498 76.056999]\n",
      " [75.538399 75.539299 75.094002]\n",
      " [75.945099 76.154503 75.774597]\n",
      " [79.552902 79.779999 79.261002]\n",
      " [82.825699 83.220001 82.562302]\n",
      " [81.899002 82.600197 81.691498]\n",
      " [77.486298 77.913498 77.480003]\n",
      " [81.4655   81.826797 81.265999]\n",
      " [76.490097 76.981499 76.304497]\n",
      " [79.410599 79.757004 79.313004]\n",
      " [77.985497 78.218498 77.964996]\n",
      " [82.279198 82.508301 82.073997]\n",
      " [76.957497 77.518997 76.927498]\n",
      " [78.939499 79.420998 78.914497]\n",
      " [81.480598 81.697601 81.0998  ]\n",
      " [79.571503 79.656502 79.173698]\n",
      " [79.6558   79.741997 79.324997]\n",
      " [77.692001 77.829498 77.462799]\n",
      " [79.807503 80.218697 79.598099]\n",
      " [79.9179   80.1548   79.762001]\n",
      " [77.372398 77.745003 77.276497]\n",
      " [82.636902 82.9562   82.5495  ]\n",
      " [79.368401 79.548302 78.929901]\n",
      " [79.601898 79.814697 79.442101]\n",
      " [76.794098 77.038002 76.4879  ]\n",
      " [74.420303 74.742699 74.316101]\n",
      " [79.476402 80.059502 79.425003]\n",
      " [81.652603 81.874001 81.542   ]\n",
      " [82.761497 83.137497 82.43    ]\n",
      " [79.876801 80.144798 79.686096]\n",
      " [79.720497 80.255997 79.713699]\n",
      " [82.273399 82.431503 82.055   ]\n",
      " [77.694199 77.8461   77.547501]\n",
      " [75.801102 76.096497 75.428299]\n",
      " [82.541298 83.068901 82.541298]\n",
      " [81.254799 81.717499 80.733002]\n",
      " [82.857903 83.       82.591499]\n",
      " [77.818703 78.193802 77.734497]\n",
      " [74.902298 75.319099 74.902298]\n",
      " [75.9132   76.0625   75.708   ]\n",
      " [78.6045   79.2033   78.568001]\n",
      " [81.062202 81.338097 80.784798]\n",
      " [79.878304 80.0895   79.708   ]\n",
      " [76.276199 76.366402 76.0839  ]\n",
      " [81.615799 81.861    81.286301]\n",
      " [77.82     78.009804 77.213501]\n",
      " [81.162201 81.614998 81.082001]\n",
      " [79.967903 80.160797 79.432503]\n",
      " [75.886803 76.524101 75.885002]\n",
      " [74.646202 74.784897 74.539001]\n",
      " [76.134903 76.481003 75.898697]\n",
      " [75.284798 75.895103 75.212196]\n",
      " [75.946404 76.277298 75.891998]\n",
      " [79.796799 80.026299 79.737396]\n",
      " [77.933998 78.272797 77.872498]\n",
      " [79.0439   79.25     78.877998]\n",
      " [74.686897 74.726501 74.352997]\n",
      " [79.5784   79.754501 79.007004]\n",
      " [77.520897 77.735298 77.552803]\n",
      " [81.428703 82.055496 81.407501]\n",
      " [81.631798 81.737999 81.189697]\n",
      " [75.909203 76.1558   75.843002]\n",
      " [78.252296 78.5625   78.158501]\n",
      " [81.495003 81.856003 81.272598]\n",
      " [77.584099 77.816498 77.3862  ]\n",
      " [81.669701 81.921997 81.524002]\n",
      " [80.482903 80.983002 80.423798]\n",
      " [76.541801 77.069298 76.466499]\n",
      " [79.649803 79.945999 79.636299]\n",
      " [75.981598 76.206497 75.912498]\n",
      " [82.049599 82.706497 81.928299]\n",
      " [79.724503 80.025497 79.655296]\n",
      " [75.408302 75.6595   75.064499]\n",
      " [81.115601 81.524101 81.092499]\n",
      " [79.627602 79.7285   79.470802]\n",
      " [74.449303 74.652496 74.296501]\n",
      " [80.497002 81.287399 80.3731  ]\n",
      " [77.724297 77.982002 77.676498]\n",
      " [82.199997 82.887001 82.120003]\n",
      " [82.348999 82.626297 82.044998]\n",
      " [77.820999 78.059799 77.588997]\n",
      " [76.310303 76.706497 76.254501]\n",
      " [76.3088   76.595497 76.233597]\n",
      " [79.707497 79.9925   79.5765  ]\n",
      " [82.7761   82.917999 82.690903]\n",
      " [74.643898 74.928001 74.585098]\n",
      " [81.525497 81.817001 81.155502]\n",
      " [81.637398 81.816299 81.498596]\n",
      " [75.055199 75.786003 74.900002]\n",
      " [79.895103 80.141998 79.796501]\n",
      " [74.779999 75.001503 74.685997]\n",
      " [79.331398 79.577103 79.141998]\n",
      " [76.4207   77.156799 76.4207  ]\n",
      " [79.8545   80.084999 79.698898]\n",
      " [81.519897 81.930199 81.539597]\n",
      " [78.955704 79.169998 77.7743  ]\n",
      " [76.331398 76.456497 76.074501]\n",
      " [79.847397 80.057297 79.597397]\n",
      " [80.030296 80.148499 79.8526  ]\n",
      " [82.874901 82.984802 82.716003]\n",
      " [82.442497 82.781303 82.278   ]\n",
      " [76.472198 76.788696 76.411499]\n",
      " [82.684502 83.027    82.591301]\n",
      " [76.445396 76.656502 76.153   ]\n",
      " [76.101898 76.5084   75.976997]\n",
      " [79.689499 79.957802 79.585297]\n",
      " [79.882896 80.133499 79.716003]\n",
      " [76.0242   76.238503 75.759003]\n",
      " [79.477798 79.860298 79.388496]\n",
      " [79.883797 80.098    79.502998]\n",
      " [74.523804 74.992401 74.523804]\n",
      " [82.445297 82.550598 81.924202]\n",
      " [82.997002 83.324997 82.546997]\n",
      " [77.443802 77.558502 77.256798]\n",
      " [76.293198 76.638    76.042   ]\n",
      " [81.655403 81.851799 81.414497]\n",
      " [76.278503 76.626503 76.043701]\n",
      " [77.598999 77.941704 77.436501]\n",
      " [82.645203 82.776299 82.281097]\n",
      " [79.716797 80.091499 79.586502]\n",
      " [76.290001 76.689003 75.984497]\n",
      " [79.097801 79.792297 79.0495  ]\n",
      " [81.521301 82.061996 81.411301]\n",
      " [74.644897 74.834801 74.538498]\n",
      " [77.9002   78.264801 77.882004]\n",
      " [75.477997 75.542    75.2575  ]\n",
      " [79.722504 79.842201 79.702499]\n",
      " [82.604103 82.877403 81.716797]\n",
      " [82.888397 82.9963   82.6688  ]\n",
      " [82.749802 82.791199 82.426201]\n",
      " [75.666702 75.972    75.561501]\n",
      " [79.782997 79.968002 79.709999]\n",
      " [77.418404 77.725998 77.278999]\n",
      " [76.914497 77.286499 76.315804]\n",
      " [81.422501 81.894997 81.193497]\n",
      " [75.046097 75.188797 74.590202]\n",
      " [79.849098 80.013298 79.098602]\n",
      " [81.650299 81.764    81.489502]\n",
      " [78.1931   78.419502 78.139999]\n",
      " [77.630203 77.899597 77.527   ]\n",
      " [77.805397 78.023804 77.369003]\n",
      " [82.725998 82.918503 82.557999]\n",
      " [82.902901 82.912903 82.629997]\n",
      " [77.478798 77.748001 77.434998]\n",
      " [74.555702 74.862503 74.4328  ]\n",
      " [74.656601 74.794502 74.577904]\n",
      " [76.149803 76.263496 75.975998]\n",
      " [82.3722   82.738503 82.204597]\n",
      " [79.775902 80.0765   79.779297]\n",
      " [75.642899 75.703796 75.380302]\n",
      " [79.706299 79.937798 79.454002]\n",
      " [76.523102 76.597801 76.348   ]\n",
      " [82.402496 82.706001 82.401802]\n",
      " [79.841202 80.070801 79.747498]\n",
      " [81.524902 81.7883   81.4925  ]\n",
      " [82.851997 82.901199 82.740997]\n",
      " [76.280197 76.561203 76.2155  ]\n",
      " [75.450699 76.033997 75.370003]\n",
      " [77.961403 78.172501 77.859901]\n",
      " [75.827797 76.058296 75.639503]\n",
      " [81.630898 81.790298 81.280098]\n",
      " [79.762703 80.155998 79.762497]\n",
      " [81.632896 81.870003 81.579498]\n",
      " [82.273903 82.616501 82.154602]\n",
      " [74.695503 74.944901 74.6185  ]\n",
      " [81.974998 82.371803 81.792503]\n",
      " [82.878601 82.988297 82.642998]\n",
      " [81.714996 81.915001 81.683098]\n",
      " [79.602402 79.805    79.383598]\n",
      " [75.836998 76.2005   75.836304]\n",
      " [81.727699 81.994797 81.603401]\n",
      " [76.034103 76.2995   75.564697]\n",
      " [77.526802 77.665001 77.498497]\n",
      " [75.069801 75.269501 74.481003]\n",
      " [75.917297 76.139801 75.763496]\n",
      " [82.728996 83.070801 82.503502]\n",
      " [79.548798 79.834999 79.279503]\n",
      " [81.278    81.736099 81.129501]\n",
      " [82.832298 83.064301 82.258499]\n",
      " [82.192101 82.605499 82.124001]\n",
      " [79.855904 80.1185   79.855904]\n",
      " [76.759003 76.759102 76.342499]\n",
      " [79.959099 80.129501 79.873398]\n",
      " [82.508003 83.035896 82.414101]\n",
      " [82.666496 82.794998 82.428802]\n",
      " [74.438499 74.629997 74.294403]\n",
      " [75.994797 75.996399 75.3657  ]\n",
      " [79.146004 79.685097 79.146004]\n",
      " [80.003403 80.271004 79.761002]\n",
      " [79.766701 80.112503 79.657097]\n",
      " [78.160599 78.3638   77.929001]\n",
      " [77.670601 77.906303 77.596001]\n",
      " [78.962997 79.191002 78.473   ]\n",
      " [77.818398 77.969803 77.420799]\n",
      " [82.239197 83.123001 82.193001]\n",
      " [76.4673   76.567497 76.167999]\n",
      " [81.071404 81.538002 81.071404]\n",
      " [81.343803 81.910004 80.727097]\n",
      " [79.221603 79.422798 79.110497]\n",
      " [81.259003 81.360001 81.095001]\n",
      " [75.0495   75.303001 74.946297]\n",
      " [82.4207   82.75     82.138496]\n",
      " [76.588997 76.829803 76.268402]\n",
      " [77.977699 78.189499 77.937401]\n",
      " [78.177597 78.406799 77.956001]]\n"
     ]
    }
   ],
   "source": [
    "print(x_train)"
   ]
  },
  {
   "cell_type": "code",
   "execution_count": 39,
   "id": "98dc528c",
   "metadata": {},
   "outputs": [
    {
     "name": "stdout",
     "output_type": "stream",
     "text": [
      "[[82.706001]\n",
      " [81.4953  ]\n",
      " [82.2864  ]\n",
      " [79.355301]\n",
      " [76.285202]\n",
      " [79.194801]\n",
      " [80.050697]\n",
      " [81.435997]\n",
      " [74.745499]\n",
      " [79.073196]\n",
      " [74.623001]\n",
      " [81.305298]\n",
      " [76.323502]\n",
      " [82.681801]\n",
      " [82.412804]\n",
      " [82.180099]\n",
      " [77.2714  ]\n",
      " [75.209297]\n",
      " [81.405197]\n",
      " [76.463501]\n",
      " [79.118301]\n",
      " [79.613998]\n",
      " [75.174797]\n",
      " [80.991997]\n",
      " [78.142403]\n",
      " [79.359703]\n",
      " [77.365501]\n",
      " [76.527802]\n",
      " [77.497299]\n",
      " [74.808899]\n",
      " [75.630997]\n",
      " [82.194702]\n",
      " [82.253502]\n",
      " [78.134903]\n",
      " [77.080803]\n",
      " [81.648804]\n",
      " [76.524101]\n",
      " [82.581902]\n",
      " [81.825996]\n",
      " [74.822403]\n",
      " [82.785698]\n",
      " [76.552399]\n",
      " [78.950699]\n",
      " [76.001602]\n",
      " [74.633003]\n",
      " [79.682297]\n",
      " [82.413002]\n",
      " [75.685402]\n",
      " [77.421097]\n",
      " [79.1549  ]\n",
      " [82.835098]\n",
      " [79.453697]\n",
      " [78.441101]]\n"
     ]
    }
   ],
   "source": [
    "print(y_test)"
   ]
  },
  {
   "cell_type": "code",
   "execution_count": 29,
   "id": "37b282bd",
   "metadata": {},
   "outputs": [],
   "source": [
    "from sklearn.tree import DecisionTreeRegressor\n",
    "model = DecisionTreeRegressor()\n",
    "model.fit(xtrain, ytrain)\n",
    "ypred = model.predict(xtest)"
   ]
  },
  {
   "cell_type": "code",
   "execution_count": 20,
   "id": "53787452",
   "metadata": {},
   "outputs": [
    {
     "name": "stdout",
     "output_type": "stream",
     "text": [
      "   Predicted Rate\n",
      "0       82.725998\n",
      "1       81.495003\n",
      "2       82.279198\n",
      "3       79.368401\n",
      "4       76.278503\n"
     ]
    }
   ],
   "source": [
    "data = pd.DataFrame(data={\"Predicted Rate\": ypred.flatten()})\n",
    "print(data.head())"
   ]
  },
  {
   "cell_type": "code",
   "execution_count": 40,
   "id": "567ead26",
   "metadata": {},
   "outputs": [
    {
     "name": "stdout",
     "output_type": "stream",
     "text": [
      "    Predicted Rate\n",
      "48       77.418404\n",
      "49       79.146004\n",
      "50       82.851997\n",
      "51       79.476402\n",
      "52       78.604500\n"
     ]
    }
   ],
   "source": [
    "data = pd.DataFrame(data={\"Predicted Rate\": ypred.flatten()})\n",
    "print(data.tail())"
   ]
  },
  {
   "cell_type": "code",
   "execution_count": null,
   "id": "2a9d6ed6",
   "metadata": {},
   "outputs": [],
   "source": []
  }
 ],
 "metadata": {
  "kernelspec": {
   "display_name": "Python 3 (ipykernel)",
   "language": "python",
   "name": "python3"
  },
  "language_info": {
   "codemirror_mode": {
    "name": "ipython",
    "version": 3
   },
   "file_extension": ".py",
   "mimetype": "text/x-python",
   "name": "python",
   "nbconvert_exporter": "python",
   "pygments_lexer": "ipython3",
   "version": "3.9.7"
  }
 },
 "nbformat": 4,
 "nbformat_minor": 5
}
